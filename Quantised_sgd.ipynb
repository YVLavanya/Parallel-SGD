{
  "cells": [
    {
      "cell_type": "code",
      "execution_count": 41,
      "metadata": {
        "colab": {
          "base_uri": "https://localhost:8080/"
        },
        "id": "atguqvxTnUDk",
        "outputId": "75703626-4401-4bd7-9ff2-8a32554cb2cd"
      },
      "outputs": [
        {
          "output_type": "stream",
          "name": "stdout",
          "text": [
            "DONE\n"
          ]
        }
      ],
      "source": [
        "import warnings\n",
        "warnings.filterwarnings(\"ignore\")\n",
        "from sklearn.datasets import load_boston\n",
        "from sklearn import preprocessing\n",
        "import pandas as pd\n",
        "import numpy as np\n",
        "import matplotlib.pyplot as plt\n",
        "from prettytable import PrettyTable\n",
        "from sklearn.linear_model import SGDRegressor\n",
        "from sklearn import preprocessing\n",
        "from sklearn.metrics import mean_squared_error\n",
        "from numpy import random\n",
        "from sklearn.model_selection import train_test_split\n",
        "print(\"DONE\")"
      ]
    },
    {
      "cell_type": "code",
      "execution_count": 42,
      "metadata": {
        "colab": {
          "base_uri": "https://localhost:8080/"
        },
        "id": "30yNxFB1ng2n",
        "outputId": "a27810b3-8f19-446e-f3bc-46d1c9152d7d"
      },
      "outputs": [
        {
          "output_type": "stream",
          "name": "stdout",
          "text": [
            "        CRIM    ZN  INDUS  CHAS    NOX     RM   AGE     DIS  RAD    TAX  \\\n",
            "0    0.00632  18.0   2.31   0.0  0.538  6.575  65.2  4.0900  1.0  296.0   \n",
            "1    0.02731   0.0   7.07   0.0  0.469  6.421  78.9  4.9671  2.0  242.0   \n",
            "2    0.02729   0.0   7.07   0.0  0.469  7.185  61.1  4.9671  2.0  242.0   \n",
            "3    0.03237   0.0   2.18   0.0  0.458  6.998  45.8  6.0622  3.0  222.0   \n",
            "4    0.06905   0.0   2.18   0.0  0.458  7.147  54.2  6.0622  3.0  222.0   \n",
            "..       ...   ...    ...   ...    ...    ...   ...     ...  ...    ...   \n",
            "501  0.06263   0.0  11.93   0.0  0.573  6.593  69.1  2.4786  1.0  273.0   \n",
            "502  0.04527   0.0  11.93   0.0  0.573  6.120  76.7  2.2875  1.0  273.0   \n",
            "503  0.06076   0.0  11.93   0.0  0.573  6.976  91.0  2.1675  1.0  273.0   \n",
            "504  0.10959   0.0  11.93   0.0  0.573  6.794  89.3  2.3889  1.0  273.0   \n",
            "505  0.04741   0.0  11.93   0.0  0.573  6.030  80.8  2.5050  1.0  273.0   \n",
            "\n",
            "     PTRATIO       B  LSTAT  \n",
            "0       15.3  396.90   4.98  \n",
            "1       17.8  396.90   9.14  \n",
            "2       17.8  392.83   4.03  \n",
            "3       18.7  394.63   2.94  \n",
            "4       18.7  396.90   5.33  \n",
            "..       ...     ...    ...  \n",
            "501     21.0  391.99   9.67  \n",
            "502     21.0  396.90   9.08  \n",
            "503     21.0  396.90   5.64  \n",
            "504     21.0  393.45   6.48  \n",
            "505     21.0  396.90   7.88  \n",
            "\n",
            "[506 rows x 13 columns]\n",
            "X Shape:  (506, 13)\n",
            "Y Shape:  (506,)\n",
            "X_Train Shape:  (354, 13)\n",
            "X_Test Shape:  (152, 13)\n",
            "Y_Train Shape:  (354,)\n",
            "Y_Test Shape:  (152,)\n",
            "(354, 14)\n"
          ]
        }
      ],
      "source": [
        "boston_data=pd.DataFrame(load_boston().data,columns=load_boston().feature_names)\n",
        "print(boston_data)\n",
        "Y=load_boston().target\n",
        "X=load_boston().data\n",
        "x_train,x_test,y_train,y_test=train_test_split(X,Y,test_size=0.3)\n",
        "print(\"X Shape: \",X.shape)\n",
        "print(\"Y Shape: \",Y.shape)\n",
        "print(\"X_Train Shape: \",x_train.shape)\n",
        "print(\"X_Test Shape: \",x_test.shape)\n",
        "print(\"Y_Train Shape: \",y_train.shape)\n",
        "print(\"Y_Test Shape: \",y_test.shape)\n",
        "# standardizing data\n",
        "scaler = preprocessing.StandardScaler().fit(x_train)\n",
        "x_train = scaler.transform(x_train)\n",
        "x_test=scaler.transform(x_test)\n",
        "## Adding the PRIZE Column in the data\n",
        "train_data=pd.DataFrame(x_train)\n",
        "train_data['price']=y_train\n",
        "print(train_data.shape)\n",
        "train_data.head(3)\n",
        "x_test=np.array(x_test)\n",
        "y_test=np.array(y_test)"
      ]
    },
    {
      "cell_type": "code",
      "execution_count": 17,
      "metadata": {
        "id": "oOGjk3R_wY7g"
      },
      "outputs": [],
      "source": [
        "#function to quantise gradients using deterministic rounding\n",
        "def quantise_deterministic(X): \n",
        "   min_X=min(X)\n",
        "   max_X=max(X)\n",
        "   y=encode_deterministic(X,min_X,max_X)\n",
        "   Y=decode_deterministic(y,min_X,max_X)\n",
        "   return Y\n",
        "\n",
        "def encode_deterministic(x,min_x,max_x):\n",
        "    threshold=(min_x+max_x)/2\n",
        "    y=np.zeros(len(x))\n",
        "    for i in range(len(x)):\n",
        "        if(x[i]>=threshold):\n",
        "           y[i]=1\n",
        "        else:\n",
        "           y[i]=0\n",
        "    return y\n",
        "\n",
        "def decode_deterministic(x,min_X,max_X):\n",
        "      threshold=(min_X+max_X)/2\n",
        "      y=np.zeros(len(x))\n",
        "      for i in range(len(x)):\n",
        "        if(x[i]==0):\n",
        "           y[i]=(threshold+min_X)/2\n",
        "        else:\n",
        "           y[i]=(threshold+max_X)/2\n",
        "      return y\n",
        "\n",
        "   "
      ]
    },
    {
      "cell_type": "code",
      "execution_count": 18,
      "metadata": {
        "id": "ZTq8-9pDkQ1A"
      },
      "outputs": [],
      "source": [
        "#function to quantise gradients using randomised rounding\n",
        "def quantise_randomised(X): \n",
        "   min_X=min(X)\n",
        "   max_X=max(X)\n",
        "   X_shifted=X-min_X\n",
        "   X_scaled=X_shifted/(max(X_shifted))\n",
        "   y=encode_randomised(X_scaled)\n",
        "   Y=decode_randomised(y,min_X,max_X)\n",
        "   return Y\n",
        "\n",
        "def encode_randomised(x):\n",
        "    y=np.zeros(len(x))\n",
        "    for i in range(len(x)):\n",
        "        y[i]=np.random.binomial(n=1, p=x[i])\n",
        "    return y\n",
        "\n",
        "def decode_randomised(x,min_X,max_X):\n",
        "      y=np.zeros(len(x))\n",
        "      for i in range(len(x)):\n",
        "           y[i]=x[i]\n",
        "      Y=(y*(max_X-min_X))+min_X\n",
        "      return Y\n",
        "\n",
        "\n"
      ]
    },
    {
      "cell_type": "code",
      "execution_count": 38,
      "metadata": {
        "id": "EJq-urs-nusk"
      },
      "outputs": [],
      "source": [
        "def MyCustomSGD(train_data,learning_rate,n_iter,k,divideby):\n",
        "    \n",
        "    # Initially we will keep our W and B as 0 as per the Training Data\n",
        "    w=np.zeros((1,train_data.shape[1]-1))\n",
        "    b=0\n",
        "    \n",
        "    cur_iter=1\n",
        "    while(cur_iter<=n_iter): \n",
        "\n",
        "        # We will create a small training data set of size K\n",
        "        temp=train_data.sample(k)\n",
        "        # We create our X and Y from the above temp dataset\n",
        "        y=np.array(temp['price'])\n",
        "        x=np.array(temp.drop('price',axis=1))\n",
        "        \n",
        "        # We keep our initial gradients as 0\n",
        "        w_gradient=np.zeros(shape=(1,train_data.shape[1]-1))\n",
        "        b_gradient=0\n",
        "        \n",
        "        for i in range(k): # Calculating gradients for point in our K sized dataset\n",
        "            prediction=np.dot(w,x[i])+b\n",
        "            cur_w_grad=(-2)*x[i]*(y[i]-(prediction)) #actual gradients w.r.t w\n",
        "            cur_b_grad=(-2)*(y[i]-(prediction))   #actual gradient w.r.t b\n",
        "            cur_grad=np.concatenate((cur_w_grad,cur_b_grad)) #getting single vector containing all gradients\n",
        "            cur_quant_grad=quantise_randomised(cur_grad) #quantising gradient vector using randomised rounding \n",
        "            #In the above line,we call 'quantise_deterministic' function to quantise gradients using deterministic rounding\n",
        "\n",
        "            cur_w_grad_quantised=cur_quant_grad[:-1]\n",
        "            cur_b_grad_quantised=cur_quant_grad[-1]\n",
        "            w_gradient=w_gradient+(cur_w_grad_quantised)   # using quantised gradients while aggregating\n",
        "            b_gradient=b_gradient+(cur_b_grad_quantised)\n",
        "            \n",
        "\n",
        "        \n",
        "        #Updating the weights(W) and Bias(b) with the above calculated Gradients\n",
        "        w=w-learning_rate*(w_gradient/k)\n",
        "        b=b-learning_rate*(b_gradient/k)\n",
        "        \n",
        "        # Incrementing the iteration value\n",
        "        cur_iter=cur_iter+1\n",
        "        \n",
        "        \n",
        "        #Dividing the learning rate by the specified value\n",
        "        learning_rate=learning_rate/divideby\n",
        "\n",
        "    \n",
        "    return w,b #Returning the weights and Bias"
      ]
    },
    {
      "cell_type": "code",
      "execution_count": 39,
      "metadata": {
        "id": "c2yShdK9nwsV"
      },
      "outputs": [],
      "source": [
        "def predict(x,w,b):\n",
        "    y_pred=[]\n",
        "    for i in range(len(x)):\n",
        "        y=np.asscalar(np.dot(w,x[i])+b)\n",
        "        y_pred.append(y)\n",
        "    return np.array(y_pred)\n",
        "    "
      ]
    },
    {
      "cell_type": "code",
      "execution_count": 40,
      "metadata": {
        "colab": {
          "base_uri": "https://localhost:8080/",
          "height": 1000
        },
        "id": "mcRI6038n4Vi",
        "outputId": "2afce369-6ac8-43a8-9c9a-9b7f4f0e92c0"
      },
      "outputs": [
        {
          "output_type": "stream",
          "name": "stdout",
          "text": [
            "w,b= [[-0.52783073  0.21369956 -1.05370772  1.40394157 -0.38661626  2.72192596\n",
            "  -0.26448444 -1.20968484  0.35740504 -0.12629196 -1.55695061  0.77614474\n",
            "  -3.112339  ]] 19.7605366299281\n",
            "Predicted y: [20.21448343 12.76622403 10.60143945 21.65905784 15.67021101 20.24467512\n",
            " 23.03557905 16.56938451 15.34152324 27.19701148 26.743633    8.00927803\n",
            " 28.03633351 16.37562913 35.38087492 10.36611623 30.99292129  9.79983005\n",
            " 21.53260058 18.30568462  3.67591135 24.01900613 24.73638108 28.57267089\n",
            " 15.57731794 13.98379777 18.60222824  6.12746356 31.27525155 27.03339668\n",
            " 19.51806094  4.1623025  28.56060979 14.67895951 18.4378438  15.71130669\n",
            " 10.15467782 30.55060884 15.19353739 29.62341553 27.23971368  1.31822986\n",
            " 16.98047544 11.07968603 19.16205795 21.54474508 18.83098394 27.54514596\n",
            " 20.53844905 11.12100205 19.78927076 27.93195209 14.65511957 22.06690569\n",
            " 16.18193476 19.03145842 24.30478425 21.67251175 17.85091678 22.5563669\n",
            " 13.98455702 30.78141371 23.33516503  7.14460498 19.15835419 12.78892944\n",
            " 24.64381315 26.12471931 19.25950045 15.22378377 17.79185096 15.34427594\n",
            " 19.88421318 24.87085334 23.02057656 20.211303   13.57853044 24.0701658\n",
            " 19.53711091 18.04159811 16.04759696 13.25678916 20.03690275 15.27741269\n",
            " 19.62279916 19.09998809  2.40439884 22.66751036 31.05478634 23.44657237\n",
            " 14.65863241 17.74264777 10.28145342 15.79525566 18.62651978 17.27993889\n",
            " 14.35079796 20.97474526 26.35285636 16.92841979 16.2045216  20.3540914\n",
            " 20.47195353  3.95521566 24.01181581 11.81735721 19.46555911 17.79005012\n",
            " 19.09824647 22.23756492 32.26839235 10.94011952 17.93506416 15.67721788\n",
            " 30.59283616 19.66734538 33.12047412  9.57425083 14.9542818   8.35908436\n",
            " 13.13511615 27.9340062  34.83444388 28.30716331 25.96303426 19.56411641\n",
            " 16.41871063 17.64518637 20.5509582  21.13120872 14.11296321 14.90632419\n",
            " 18.16372459 20.18517053 27.50866748 23.67519893 12.61082865 16.0584034\n",
            " 16.45889957 22.69563798 16.86874576 18.00994921 24.97378929 21.89514061\n",
            " 15.58817707 22.14512559 23.58849521 32.24827851 24.61344254 20.19955393\n",
            " 33.93122128 16.09356027]\n",
            "Actual y: [16.8 13.1 12.8 28.1 19.5 23.3 21.7 18.2 17.6 41.3 31.5 12.  37.3 15.2\n",
            " 50.   9.5 34.6 12.3 19.4 20.4  8.1 16.5 26.4 31.5 18.2 13.4 21.1  8.8\n",
            " 50.  28.5 21.1 10.2 32.  15.6 19.5 20.6  8.3 27.5 27.5 27.  29.9  8.8\n",
            " 17.7 16.5 18.7 23.7 21.2 24.  20.9 13.3 18.9 36.1 20.1 23.1 17.1 20.\n",
            " 20.7 21.4 18.5 23.2 14.8 36.5 28.7  9.7 19.  13.1 22.  22.5 19.3 22.\n",
            " 19.3 15.4 20.8 23.3 21.5 21.  14.5 22.  19.4 17.4 18.7 10.2 20.6 16.1\n",
            " 22.5 19.7 14.4 22.7 46.7 23.9 14.2 23.2 11.8 18.  17.1 19.4 13.  15.\n",
            " 36.2 21.4 16.  20.4 20.6 10.5 17.  13.3 19.1 20.4 21.7 22.4 37.6 12.7\n",
            " 19.9 19.1 50.  19.8 32.4 27.5 27.9 14.6 14.9 32.  50.  32.9 32.5 17.8\n",
            " 19.6 20.6 21.2 29.6 23.2 20.8 17.5 24.5 29.1 24.7  8.5 19.4 13.1 24.4\n",
            " 20.6 22.2 22.  21.6 20.3 21.6 26.6 43.1 29.6 24.7 35.2 19.6]\n"
          ]
        },
        {
          "output_type": "display_data",
          "data": {
            "text/plain": [
              "<Figure size 432x288 with 1 Axes>"
            ],
            "image/png": "[encoded data removed]"
          },
          "metadata": {
            "needs_background": "light"
          }
        },
        {
          "output_type": "stream",
          "name": "stdout",
          "text": [
            "Mean Squared Error : 28.04760835954109\n"
          ]
        }
      ],
      "source": [
        "w,b=MyCustomSGD(train_data,learning_rate=0.001,n_iter=1000,divideby=1,k=10)\n",
        "print(\"w,b=\",w,b)\n",
        "y_pred_customsgd=predict(x_test,w,b)\n",
        "print(\"Predicted y:\",y_pred_customsgd)\n",
        "print(\"Actual y:\",y_test)\n",
        "plt.scatter(y_test,y_pred_customsgd)\n",
        "plt.grid()\n",
        "plt.xlabel('Actual y')\n",
        "plt.ylabel('Predicted y')\n",
        "plt.title('Scatter plot from actual y and predicted y')\n",
        "plt.show()\n",
        "print('Mean Squared Error :',mean_squared_error(y_test, y_pred_customsgd))"
      ]
    }
  ],
  "metadata": {
    "colab": {
      "name": "sgd_quantised.ipynb",
      "provenance": [],
      "collapsed_sections": []
    },
    "kernelspec": {
      "display_name": "Python 3",
      "name": "python3"
    },
    "language_info": {
      "name": "python"
    }
  },
  "nbformat": 4,
  "nbformat_minor": 0
}