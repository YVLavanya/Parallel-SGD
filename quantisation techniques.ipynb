{
  "nbformat": 4,
  "nbformat_minor": 0,
  "metadata": {
    "colab": {
      "provenance": []
    },
    "kernelspec": {
      "name": "python3",
      "display_name": "Python 3"
    },
    "language_info": {
      "name": "python"
    }
  },
  "cells": [
    {
      "cell_type": "code",
      "execution_count": 71,
      "metadata": {
        "id": "vBRUc4K3Nubn"
      },
      "outputs": [],
      "source": [
        "import numpy as np\n",
        "from numpy import random\n",
        "from scipy.linalg import hadamard\n",
        "from numpy.linalg import norm\n",
        "import math "
      ]
    },
    {
      "cell_type": "code",
      "source": [
        "p=math.pi\n",
        "print(p)"
      ],
      "metadata": {
        "colab": {
          "base_uri": "https://localhost:8080/"
        },
        "id": "oS5CqYCXN4Hv",
        "outputId": "df115e09-1296-4a21-f528-b0ca1922ed18"
      },
      "execution_count": 72,
      "outputs": [
        {
          "output_type": "stream",
          "name": "stdout",
          "text": [
            "3.141592653589793\n"
          ]
        }
      ]
    },
    {
      "cell_type": "code",
      "source": [
        "#function to quantise vector using detreministic rounding\n",
        "def quantise_deterministic(X):\n",
        "   y=encode_deterministic(X)\n",
        "   #print(y)\n",
        "   Y=decode_deterministic(y)\n",
        "   return Y\n",
        "\n",
        "   \n",
        "def encode_deterministic(x):\n",
        "    y=np.zeros(len(x))\n",
        "    for i in range(len(x)):\n",
        "        if(x[i]>=0.5):\n",
        "           y[i]=1\n",
        "        else:\n",
        "           y[i]=0\n",
        "    return y\n",
        "\n",
        "def decode_deterministic(x):\n",
        "      y=np.zeros(len(x))\n",
        "      for i in range(len(x)):\n",
        "        if(x[i]==0):\n",
        "           y[i]=0.25\n",
        "        else:\n",
        "           y[i]=0.75\n",
        "      return y\n",
        "\n"
      ],
      "metadata": {
        "id": "_OPFIo3yN82O"
      },
      "execution_count": 73,
      "outputs": []
    },
    {
      "cell_type": "code",
      "source": [
        "#function to quantise vector using randomised rotation\n",
        "\n",
        "def quantise_rndmrotation(X):\n",
        "    n=len(X)\n",
        "    G= random.normal(size=(n,n))\n",
        "    q, r = np.linalg.qr(G)\n",
        "    v=np.zeros(n)\n",
        "    V=np.zeros(n)\n",
        "    for i in range(n):\n",
        "          v[i]=np.random.binomial(n=1, p=0.5)\n",
        "    for i in range(n):\n",
        "         if v[i]==0:\n",
        "            V[i]=-1\n",
        "         else:\n",
        "            V[i]=1\n",
        "    D=np.diag(V)\n",
        "    s=np.dot(q,D)\n",
        "    R=np.dot(s,q.T)  #rotation matrix\n",
        "    #print(R)\n",
        "    #print(np.dot(R,R.T))\n",
        "\n",
        "    y=encode_rndmrotation(X,R)\n",
        "    #print(y)\n",
        "    norm_X=np.linalg.norm(X)\n",
        "    Y=decode_rndmrotation(y,norm_X,R)\n",
        "    #print(Y)\n",
        "    return Y\n",
        "\n",
        "\n",
        "#At encoder\n",
        "def encode_rndmrotation(x,R):\n",
        "    n=len(x)\n",
        "    x_rotated=np.dot(R,x)   #multiply vector with rotation matrix\n",
        "   # print(x_rotated)\n",
        "    #print(np.linalg.norm(x_rotated))\n",
        "    y=np.zeros(len(x))  \n",
        "    for j in range(n):  #quantise to one bit using deterministic rounding\n",
        "        if x_rotated[j]>=0:\n",
        "            y[j]=1\n",
        "        else:\n",
        "            y[j]=0\n",
        "    return y\n",
        "\n",
        "#At decoder\n",
        "def decode_rndmrotation(x,norm_x,R):\n",
        "   n=len(x)\n",
        "   y=np.zeros(n)\n",
        "   Y=np.zeros(n)\n",
        "   a=math.sqrt((2*(norm_x**2))/(n*p))  #optimal reconstruction point\n",
        "   for i in range(len(x)):     #dequantise the vector using above reconstruction point     \n",
        "       if x[i]==0:\n",
        "          y[i]=-a\n",
        "       else:\n",
        "          y[i]=a   \n",
        "   print(y)\n",
        "   Y=np.dot(R.T,y)  # inverse rotation \n",
        "   return Y\n",
        "\n",
        "\n",
        "    \n"
      ],
      "metadata": {
        "id": "BU0mKtPPOxH2"
      },
      "execution_count": 74,
      "outputs": []
    },
    {
      "cell_type": "code",
      "source": [
        "#quantisation using DRIVE\n",
        "def encode_Drive(x,R):\n",
        "    n=len(x)\n",
        "    #print(x)\n",
        "    norm_x=np.linalg.norm(x)\n",
        "    #print(norm_x)\n",
        "    x_rotated=np.dot(R,x)\n",
        "    one_norm=np.linalg.norm((x_rotated),1)\n",
        "    #print(one_norm)\n",
        "    #S=one_norm/n      #scaling factor for min mse \n",
        "    S2=(norm_x**2)/one_norm #scaling facrtor for unbiased estimate\n",
        "    #print(\"S=\",S)\n",
        "    #print(S2)\n",
        "\n",
        "    y=np.zeros(len(x))\n",
        "    for j in range(n):\n",
        "        if x_rotated[j]>=0:\n",
        "            y[j]=1\n",
        "        else:\n",
        "            y[j]=0\n",
        "    return y,S2\n",
        "\n",
        "\n",
        "def decode_Drive(x,S,R):\n",
        "   n=len(x)\n",
        "   y=np.zeros(n)\n",
        "   Y=np.zeros(n)\n",
        "   for i in range(len(x)):\n",
        "       if x[i]==0:\n",
        "          y[i]=-S\n",
        "       else:\n",
        "          y[i]=S\n",
        "   Y=np.dot(R.T,y)\n",
        "   return Y\n",
        "\n",
        "   \n",
        "def quantise_Drive(X):\n",
        "    n=len(X)\n",
        "    G= random.normal(size=(n,n))\n",
        "    q, r = np.linalg.qr(G)\n",
        "    v=np.zeros(n)\n",
        "    V=np.zeros(n)\n",
        "    for i in range(n):\n",
        "          v[i]=np.random.binomial(n=1, p=0.5)\n",
        "    for i in range(n):\n",
        "         if v[i]==0:\n",
        "            V[i]=-1\n",
        "         else:\n",
        "            V[i]=1\n",
        "    D=np.diag(V)\n",
        "    s=np.dot(q,D)\n",
        "    R=np.dot(s,q.T)\n",
        "    y,S=encode_Drive(X,R)\n",
        "    Y=decode_Drive(y,S,R)\n",
        "    return Y"
      ],
      "metadata": {
        "id": "alJ2rwZYqtlp"
      },
      "execution_count": 75,
      "outputs": []
    },
    {
      "cell_type": "code",
      "source": [
        "#function to quantise using randomised rounding\n",
        "def encode_randomised(x):\n",
        "\n",
        "    y=np.zeros(len(x))\n",
        "    for i in range(len(x)):\n",
        "        y[i]=np.random.binomial(n=1, p=x[i])\n",
        "    return y\n",
        "\n",
        "def decode_randomised(x):\n",
        "      y=np.zeros(len(x))\n",
        "      for i in range(len(x)):\n",
        "           y[i]=x[i]\n",
        "      return y\n",
        "\n",
        "def quantise_randomised(X):\n",
        "   y=encode_randomised(X)\n",
        "   Y=decode_randomised(y)\n",
        "   return Y"
      ],
      "metadata": {
        "id": "bRmz5Fpb37uI"
      },
      "execution_count": 76,
      "outputs": []
    },
    {
      "cell_type": "code",
      "source": [
        "n=10 #length of vector\n",
        "g=np.random.uniform(0,1,n) #input vector\n",
        "print(g)"
      ],
      "metadata": {
        "colab": {
          "base_uri": "https://localhost:8080/"
        },
        "id": "9BuGw7sAOQNT",
        "outputId": "7c54cab0-dd14-4522-8629-917f78dec753"
      },
      "execution_count": 77,
      "outputs": [
        {
          "output_type": "stream",
          "name": "stdout",
          "text": [
            "[0.48740659 0.57100092 0.72324232 0.53280249 0.73005363 0.23776771\n",
            " 0.6201139  0.38512471 0.40266304 0.99949698]\n"
          ]
        }
      ]
    },
    {
      "cell_type": "code",
      "source": [
        "k=1000  #number of iterations\n",
        "squared_error=np.zeros((n,k))\n",
        "mse=np.zeros(n)\n",
        "for i in range(k):\n",
        "      X=quantise_deterministic(g)  #change function to quantise vector using above quantisation techniques\n",
        "      #print(\"quantised vector\",X) \n",
        "      y=np.subtract(X,g)  \n",
        "      squared_error[:,i]=(y)**2 #squared error of all components of vector\n",
        "for j in range(n):\n",
        "     mse[j]=sum(squared_error[j,:])/k  #mean of squared errors of each component\n",
        "norm_g=np.linalg.norm(g)\n",
        "print(mse)\n",
        "sum_mse=sum(mse)  #sum of mse of all components\n",
        "print(sum_mse)\n",
        "nmse=sum_mse/(norm_g)**2 #vector normalised mean squared error\n",
        "print(nmse)"
      ],
      "metadata": {
        "colab": {
          "base_uri": "https://localhost:8080/"
        },
        "id": "R4QYOme2OJVk",
        "outputId": "84bb5549-0dc5-48b2-dfbc-3f2c555e1529"
      },
      "execution_count": 78,
      "outputs": [
        {
          "output_type": "stream",
          "name": "stdout",
          "text": [
            "[0.05636189 0.03204067 0.00071597 0.04717476 0.00039786 0.00014963\n",
            " 0.0168704  0.01825869 0.023306   0.06224874]\n",
            "0.2575246102206697\n",
            "0.07047608298909923\n"
          ]
        }
      ]
    }
  ]
}